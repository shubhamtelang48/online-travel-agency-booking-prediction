{
 "cells": [
  {
   "cell_type": "code",
   "execution_count": 1,
   "id": "cf4510a0",
   "metadata": {},
   "outputs": [],
   "source": [
    "import pandas as pd\n",
    "import numpy as np\n",
    "import seaborn as sns\n",
    "import matplotlib.pyplot as plt"
   ]
  },
  {
   "cell_type": "code",
   "execution_count": 2,
   "id": "5fcfa058",
   "metadata": {},
   "outputs": [],
   "source": [
    "import zipfile\n",
    "import pandas as pd\n",
    " \n",
    "# read the dataset using the compression zip\n",
    "df = pd.read_csv(\"C:/Users/dell/Downloads/train_small.csv.zip\",compression='zip')"
   ]
  },
  {
   "cell_type": "code",
   "execution_count": 3,
   "id": "a8b545f7",
   "metadata": {},
   "outputs": [
    {
     "data": {
      "text/html": [
       "<div>\n",
       "<style scoped>\n",
       "    .dataframe tbody tr th:only-of-type {\n",
       "        vertical-align: middle;\n",
       "    }\n",
       "\n",
       "    .dataframe tbody tr th {\n",
       "        vertical-align: top;\n",
       "    }\n",
       "\n",
       "    .dataframe thead th {\n",
       "        text-align: right;\n",
       "    }\n",
       "</style>\n",
       "<table border=\"1\" class=\"dataframe\">\n",
       "  <thead>\n",
       "    <tr style=\"text-align: right;\">\n",
       "      <th></th>\n",
       "      <th>search_id</th>\n",
       "      <th>timestamp</th>\n",
       "      <th>site_id</th>\n",
       "      <th>user_country_id</th>\n",
       "      <th>user_hist_stars</th>\n",
       "      <th>user_hist_paid</th>\n",
       "      <th>listing_country_id</th>\n",
       "      <th>listing_id</th>\n",
       "      <th>listing_stars</th>\n",
       "      <th>listing_review_score</th>\n",
       "      <th>...</th>\n",
       "      <th>competitor6_price_percent_diff</th>\n",
       "      <th>competitor7_rate</th>\n",
       "      <th>competitor7_has_availability</th>\n",
       "      <th>competitor7_price_percent_diff</th>\n",
       "      <th>competitor8_rate</th>\n",
       "      <th>competitor8_has_availability</th>\n",
       "      <th>competitor8_price_percent_diff</th>\n",
       "      <th>clicked</th>\n",
       "      <th>booking_value</th>\n",
       "      <th>booked</th>\n",
       "    </tr>\n",
       "  </thead>\n",
       "  <tbody>\n",
       "    <tr>\n",
       "      <th>0</th>\n",
       "      <td>4</td>\n",
       "      <td>2012-12-31 08:59:22</td>\n",
       "      <td>5</td>\n",
       "      <td>219</td>\n",
       "      <td>NaN</td>\n",
       "      <td>NaN</td>\n",
       "      <td>219</td>\n",
       "      <td>3625</td>\n",
       "      <td>4</td>\n",
       "      <td>4.0</td>\n",
       "      <td>...</td>\n",
       "      <td>NaN</td>\n",
       "      <td>NaN</td>\n",
       "      <td>NaN</td>\n",
       "      <td>NaN</td>\n",
       "      <td>NaN</td>\n",
       "      <td>NaN</td>\n",
       "      <td>NaN</td>\n",
       "      <td>0</td>\n",
       "      <td>NaN</td>\n",
       "      <td>0</td>\n",
       "    </tr>\n",
       "    <tr>\n",
       "      <th>1</th>\n",
       "      <td>4</td>\n",
       "      <td>2012-12-31 08:59:22</td>\n",
       "      <td>5</td>\n",
       "      <td>219</td>\n",
       "      <td>NaN</td>\n",
       "      <td>NaN</td>\n",
       "      <td>219</td>\n",
       "      <td>11622</td>\n",
       "      <td>4</td>\n",
       "      <td>4.0</td>\n",
       "      <td>...</td>\n",
       "      <td>NaN</td>\n",
       "      <td>NaN</td>\n",
       "      <td>NaN</td>\n",
       "      <td>NaN</td>\n",
       "      <td>NaN</td>\n",
       "      <td>NaN</td>\n",
       "      <td>NaN</td>\n",
       "      <td>0</td>\n",
       "      <td>NaN</td>\n",
       "      <td>0</td>\n",
       "    </tr>\n",
       "    <tr>\n",
       "      <th>2</th>\n",
       "      <td>4</td>\n",
       "      <td>2012-12-31 08:59:22</td>\n",
       "      <td>5</td>\n",
       "      <td>219</td>\n",
       "      <td>NaN</td>\n",
       "      <td>NaN</td>\n",
       "      <td>219</td>\n",
       "      <td>11826</td>\n",
       "      <td>5</td>\n",
       "      <td>4.5</td>\n",
       "      <td>...</td>\n",
       "      <td>NaN</td>\n",
       "      <td>NaN</td>\n",
       "      <td>NaN</td>\n",
       "      <td>NaN</td>\n",
       "      <td>NaN</td>\n",
       "      <td>NaN</td>\n",
       "      <td>NaN</td>\n",
       "      <td>0</td>\n",
       "      <td>NaN</td>\n",
       "      <td>0</td>\n",
       "    </tr>\n",
       "    <tr>\n",
       "      <th>3</th>\n",
       "      <td>4</td>\n",
       "      <td>2012-12-31 08:59:22</td>\n",
       "      <td>5</td>\n",
       "      <td>219</td>\n",
       "      <td>NaN</td>\n",
       "      <td>NaN</td>\n",
       "      <td>219</td>\n",
       "      <td>22824</td>\n",
       "      <td>3</td>\n",
       "      <td>4.0</td>\n",
       "      <td>...</td>\n",
       "      <td>NaN</td>\n",
       "      <td>NaN</td>\n",
       "      <td>NaN</td>\n",
       "      <td>NaN</td>\n",
       "      <td>NaN</td>\n",
       "      <td>NaN</td>\n",
       "      <td>NaN</td>\n",
       "      <td>0</td>\n",
       "      <td>NaN</td>\n",
       "      <td>0</td>\n",
       "    </tr>\n",
       "    <tr>\n",
       "      <th>4</th>\n",
       "      <td>4</td>\n",
       "      <td>2012-12-31 08:59:22</td>\n",
       "      <td>5</td>\n",
       "      <td>219</td>\n",
       "      <td>NaN</td>\n",
       "      <td>NaN</td>\n",
       "      <td>219</td>\n",
       "      <td>37581</td>\n",
       "      <td>5</td>\n",
       "      <td>4.5</td>\n",
       "      <td>...</td>\n",
       "      <td>NaN</td>\n",
       "      <td>NaN</td>\n",
       "      <td>NaN</td>\n",
       "      <td>NaN</td>\n",
       "      <td>NaN</td>\n",
       "      <td>NaN</td>\n",
       "      <td>NaN</td>\n",
       "      <td>0</td>\n",
       "      <td>NaN</td>\n",
       "      <td>0</td>\n",
       "    </tr>\n",
       "  </tbody>\n",
       "</table>\n",
       "<p>5 rows × 54 columns</p>\n",
       "</div>"
      ],
      "text/plain": [
       "   search_id            timestamp  site_id  user_country_id  user_hist_stars  \\\n",
       "0          4  2012-12-31 08:59:22        5              219              NaN   \n",
       "1          4  2012-12-31 08:59:22        5              219              NaN   \n",
       "2          4  2012-12-31 08:59:22        5              219              NaN   \n",
       "3          4  2012-12-31 08:59:22        5              219              NaN   \n",
       "4          4  2012-12-31 08:59:22        5              219              NaN   \n",
       "\n",
       "   user_hist_paid  listing_country_id  listing_id  listing_stars  \\\n",
       "0             NaN                 219        3625              4   \n",
       "1             NaN                 219       11622              4   \n",
       "2             NaN                 219       11826              5   \n",
       "3             NaN                 219       22824              3   \n",
       "4             NaN                 219       37581              5   \n",
       "\n",
       "   listing_review_score  ...  competitor6_price_percent_diff  \\\n",
       "0                   4.0  ...                             NaN   \n",
       "1                   4.0  ...                             NaN   \n",
       "2                   4.5  ...                             NaN   \n",
       "3                   4.0  ...                             NaN   \n",
       "4                   4.5  ...                             NaN   \n",
       "\n",
       "   competitor7_rate  competitor7_has_availability  \\\n",
       "0               NaN                           NaN   \n",
       "1               NaN                           NaN   \n",
       "2               NaN                           NaN   \n",
       "3               NaN                           NaN   \n",
       "4               NaN                           NaN   \n",
       "\n",
       "   competitor7_price_percent_diff  competitor8_rate  \\\n",
       "0                             NaN               NaN   \n",
       "1                             NaN               NaN   \n",
       "2                             NaN               NaN   \n",
       "3                             NaN               NaN   \n",
       "4                             NaN               NaN   \n",
       "\n",
       "   competitor8_has_availability  competitor8_price_percent_diff  clicked  \\\n",
       "0                           NaN                             NaN        0   \n",
       "1                           NaN                             NaN        0   \n",
       "2                           NaN                             NaN        0   \n",
       "3                           NaN                             NaN        0   \n",
       "4                           NaN                             NaN        0   \n",
       "\n",
       "   booking_value  booked  \n",
       "0            NaN       0  \n",
       "1            NaN       0  \n",
       "2            NaN       0  \n",
       "3            NaN       0  \n",
       "4            NaN       0  \n",
       "\n",
       "[5 rows x 54 columns]"
      ]
     },
     "execution_count": 3,
     "metadata": {},
     "output_type": "execute_result"
    }
   ],
   "source": [
    "df.head()"
   ]
  },
  {
   "cell_type": "code",
   "execution_count": 4,
   "id": "54260623",
   "metadata": {},
   "outputs": [
    {
     "data": {
      "text/plain": [
       "(2380557, 54)"
      ]
     },
     "execution_count": 4,
     "metadata": {},
     "output_type": "execute_result"
    }
   ],
   "source": [
    "df.shape"
   ]
  },
  {
   "cell_type": "code",
   "execution_count": 5,
   "id": "132877b5",
   "metadata": {},
   "outputs": [
    {
     "name": "stdout",
     "output_type": "stream",
     "text": [
      "<class 'pandas.core.frame.DataFrame'>\n",
      "RangeIndex: 2380557 entries, 0 to 2380556\n",
      "Data columns (total 54 columns):\n",
      " #   Column                          Dtype  \n",
      "---  ------                          -----  \n",
      " 0   search_id                       int64  \n",
      " 1   timestamp                       object \n",
      " 2   site_id                         int64  \n",
      " 3   user_country_id                 int64  \n",
      " 4   user_hist_stars                 float64\n",
      " 5   user_hist_paid                  float64\n",
      " 6   listing_country_id              int64  \n",
      " 7   listing_id                      int64  \n",
      " 8   listing_stars                   int64  \n",
      " 9   listing_review_score            float64\n",
      " 10  is_brand                        int64  \n",
      " 11  location_score1                 float64\n",
      " 12  location_score2                 float64\n",
      " 13  log_historical_price            float64\n",
      " 14  listing_position                int64  \n",
      " 15  price_usd                       float64\n",
      " 16  has_promotion                   int64  \n",
      " 17  destination_id                  int64  \n",
      " 18  length_of_stay                  int64  \n",
      " 19  booking_window                  int64  \n",
      " 20  num_adults                      int64  \n",
      " 21  num_kids                        int64  \n",
      " 22  num_rooms                       int64  \n",
      " 23  stay_on_saturday                int64  \n",
      " 24  log_click_proportion            float64\n",
      " 25  distance_to_dest                float64\n",
      " 26  random_sort                     int64  \n",
      " 27  competitor1_rate                float64\n",
      " 28  competitor1_has_availability    float64\n",
      " 29  competitor1_price_percent_diff  float64\n",
      " 30  competitor2_rate                float64\n",
      " 31  competitor2_has_availability    float64\n",
      " 32  competitor2_price_percent_diff  float64\n",
      " 33  competitor3_rate                float64\n",
      " 34  competitor3_has_availability    float64\n",
      " 35  competitor3_price_percent_diff  float64\n",
      " 36  competitor4_rate                float64\n",
      " 37  competitor4_has_availability    float64\n",
      " 38  competitor4_price_percent_diff  float64\n",
      " 39  competitor5_rate                float64\n",
      " 40  competitor5_has_availability    float64\n",
      " 41  competitor5_price_percent_diff  float64\n",
      " 42  competitor6_rate                float64\n",
      " 43  competitor6_has_availability    float64\n",
      " 44  competitor6_price_percent_diff  float64\n",
      " 45  competitor7_rate                float64\n",
      " 46  competitor7_has_availability    float64\n",
      " 47  competitor7_price_percent_diff  float64\n",
      " 48  competitor8_rate                float64\n",
      " 49  competitor8_has_availability    float64\n",
      " 50  competitor8_price_percent_diff  float64\n",
      " 51  clicked                         int64  \n",
      " 52  booking_value                   float64\n",
      " 53  booked                          int64  \n",
      "dtypes: float64(34), int64(19), object(1)\n",
      "memory usage: 980.8+ MB\n"
     ]
    }
   ],
   "source": [
    "df.info()"
   ]
  },
  {
   "cell_type": "code",
   "execution_count": 6,
   "id": "88b90e55",
   "metadata": {},
   "outputs": [
    {
     "data": {
      "text/plain": [
       "search_id                               0\n",
       "timestamp                               0\n",
       "site_id                                 0\n",
       "user_country_id                         0\n",
       "user_hist_stars                   2257777\n",
       "user_hist_paid                    2257063\n",
       "listing_country_id                      0\n",
       "listing_id                              0\n",
       "listing_stars                           0\n",
       "listing_review_score                 3486\n",
       "is_brand                                0\n",
       "location_score1                         0\n",
       "location_score2                    525992\n",
       "log_historical_price                    0\n",
       "listing_position                        0\n",
       "price_usd                               0\n",
       "has_promotion                           0\n",
       "destination_id                          0\n",
       "length_of_stay                          0\n",
       "booking_window                          0\n",
       "num_adults                              0\n",
       "num_kids                                0\n",
       "num_rooms                               0\n",
       "stay_on_saturday                        0\n",
       "log_click_proportion              2228450\n",
       "distance_to_dest                   770336\n",
       "random_sort                             0\n",
       "competitor1_rate                  2321547\n",
       "competitor1_has_availability      2316895\n",
       "competitor1_price_percent_diff    2334156\n",
       "competitor2_rate                  1414799\n",
       "competitor2_has_availability      1364441\n",
       "competitor2_price_percent_diff    2116587\n",
       "competitor3_rate                  1649006\n",
       "competitor3_has_availability      1592471\n",
       "competitor3_price_percent_diff    2155071\n",
       "competitor4_rate                  2232363\n",
       "competitor4_has_availability      2215276\n",
       "competitor4_price_percent_diff    2317696\n",
       "competitor5_rate                  1315475\n",
       "competitor5_has_availability      1249117\n",
       "competitor5_price_percent_diff    1979393\n",
       "competitor6_rate                  2260920\n",
       "competitor6_has_availability      2250665\n",
       "competitor6_price_percent_diff    2332596\n",
       "competitor7_rate                  2226089\n",
       "competitor7_has_availability      2205707\n",
       "competitor7_price_percent_diff    2312725\n",
       "competitor8_rate                  1467062\n",
       "competitor8_has_availability      1433092\n",
       "competitor8_price_percent_diff    2087857\n",
       "clicked                                 0\n",
       "booking_value                     2314169\n",
       "booked                                  0\n",
       "dtype: int64"
      ]
     },
     "execution_count": 6,
     "metadata": {},
     "output_type": "execute_result"
    }
   ],
   "source": [
    "df.isnull().sum()"
   ]
  },
  {
   "cell_type": "code",
   "execution_count": 7,
   "id": "43eae35f",
   "metadata": {},
   "outputs": [
    {
     "data": {
      "text/plain": [
       "292"
      ]
     },
     "execution_count": 7,
     "metadata": {},
     "output_type": "execute_result"
    }
   ],
   "source": [
    "len(df['user_hist_stars'].value_counts())  #  292 is the length of column in which null value contain of 95%"
   ]
  },
  {
   "cell_type": "code",
   "execution_count": 8,
   "id": "caec40b2",
   "metadata": {},
   "outputs": [
    {
     "data": {
      "image/png": "[encoded data removed]",
      "text/plain": [
       "<Figure size 432x288 with 1 Axes>"
      ]
     },
     "metadata": {
      "needs_background": "light"
     },
     "output_type": "display_data"
    }
   ],
   "source": [
    "\n",
    "n, bins, patches = plt.hist(df.listing_country_id, 100, density = 1, facecolor='blue', alpha=0.75)\n",
    "plt.xlabel('listning country Id')\n",
    "plt.title('Histogram of listing_country_id')\n",
    "plt.show()"
   ]
  },
  {
   "cell_type": "code",
   "execution_count": 9,
   "id": "52d696d0",
   "metadata": {},
   "outputs": [
    {
     "data": {
      "text/plain": [
       "listing_country_id\n",
       "219    1453640\n",
       "100     147465\n",
       "55       88802\n",
       "31       76562\n",
       "99       65434\n",
       "dtype: int64"
      ]
     },
     "execution_count": 9,
     "metadata": {},
     "output_type": "execute_result"
    }
   ],
   "source": [
    "# It shows that the 219 number country has largest obervation\n",
    "#The largest country has 61% of all observations.\n",
    "df.groupby('listing_country_id').size().nlargest(5)\n"
   ]
  },
  {
   "cell_type": "code",
   "execution_count": 10,
   "id": "9dd10116",
   "metadata": {},
   "outputs": [
    {
     "data": {
      "image/png": "[encoded data removed]",
      "text/plain": [
       "<Figure size 432x288 with 1 Axes>"
      ]
     },
     "metadata": {
      "needs_background": "light"
     },
     "output_type": "display_data"
    }
   ],
   "source": [
    "n, bins, patches = plt.hist(df.user_country_id, 100, density = 1, facecolor='blue', alpha=0.75)\n",
    "plt.xlabel('User location country Id')\n",
    "plt.title('Histogram of User_country_id')\n",
    "plt.show()"
   ]
  },
  {
   "cell_type": "code",
   "execution_count": 11,
   "id": "56fecec5",
   "metadata": {},
   "outputs": [
    {
     "data": {
      "text/plain": [
       "user_country_id\n",
       "219    1390167\n",
       "100     237213\n",
       "55      140462\n",
       "216     104127\n",
       "220      84940\n",
       "dtype: int64"
      ]
     },
     "execution_count": 11,
     "metadata": {},
     "output_type": "execute_result"
    }
   ],
   "source": [
    "#The data is anonymized, so determining the exact country or city to which a consumer plans to travel to is not possible.\n",
    "#Out of those 61% , 58% of searches are made by consumers also located in this country\n",
    "\n",
    "df.groupby('user_country_id').size().nlargest(5)"
   ]
  },
  {
   "cell_type": "code",
   "execution_count": 12,
   "id": "eaf11e97",
   "metadata": {},
   "outputs": [
    {
     "data": {
      "text/plain": [
       "4.0    0.313996\n",
       "4.5    0.312439\n",
       "3.5    0.154593\n",
       "3.0    0.075758\n",
       "5.0    0.047908\n",
       "0.0    0.046955\n",
       "2.5    0.028893\n",
       "2.0    0.012345\n",
       "1.5    0.002920\n",
       "1.0    0.002728\n",
       "Name: listing_review_score, dtype: float64"
      ]
     },
     "execution_count": 12,
     "metadata": {},
     "output_type": "execute_result"
    }
   ],
   "source": [
    "df['listing_review_score'].value_counts()/len(df)"
   ]
  },
  {
   "cell_type": "code",
   "execution_count": 13,
   "id": "432a746c",
   "metadata": {},
   "outputs": [],
   "source": [
    "#Therefore, to improve the computational efficiency, we are going to train independent models on 219 country id visitors . \n",
    "#This method greatly reduces time on training.\n",
    "\n",
    "id_219 = df.loc[df['user_country_id'] == 219]\n",
    "id_219 = id_219.sample(frac=0.8, random_state=99)\n",
    "del id_219['user_country_id']\n",
    "\n",
    "# we randomly take 80% of the id_219 data set. Then remove the column “user_country_id”.\n"
   ]
  },
  {
   "cell_type": "code",
   "execution_count": 14,
   "id": "1860d05f",
   "metadata": {},
   "outputs": [
    {
     "data": {
      "text/plain": [
       "(1112134, 53)"
      ]
     },
     "execution_count": 14,
     "metadata": {},
     "output_type": "execute_result"
    }
   ],
   "source": [
    "id_219.shape"
   ]
  },
  {
   "cell_type": "code",
   "execution_count": 15,
   "id": "42948dbe",
   "metadata": {},
   "outputs": [
    {
     "name": "stdout",
     "output_type": "stream",
     "text": [
      "10\n",
      "2004\n",
      "247\n",
      "8368\n"
     ]
    }
   ],
   "source": [
    "print(len(id_219['listing_review_score'].value_counts()))\n",
    "print(len(id_219['user_hist_paid'].value_counts()))\n",
    "print(len(id_219['user_hist_stars'].value_counts()))\n",
    "print(len(id_219['location_score2'].value_counts()))\n"
   ]
  },
  {
   "cell_type": "code",
   "execution_count": 16,
   "id": "5dd197a6",
   "metadata": {},
   "outputs": [
    {
     "name": "stdout",
     "output_type": "stream",
     "text": [
      "54836\n",
      "54746\n",
      "73278\n"
     ]
    }
   ],
   "source": [
    "print(len(id_219['search_id'].value_counts()))     # As we see that the length of unique value of this columns is very high\n",
    "print(len(id_219['timestamp'].value_counts()))     # so we can drop this columns\n",
    "print(len(id_219['listing_id'].value_counts()))"
   ]
  },
  {
   "cell_type": "code",
   "execution_count": 17,
   "id": "d305d1e7",
   "metadata": {},
   "outputs": [
    {
     "data": {
      "text/plain": [
       "search_id                               0\n",
       "timestamp                               0\n",
       "site_id                                 0\n",
       "user_hist_stars                   1066709\n",
       "user_hist_paid                    1066421\n",
       "listing_country_id                      0\n",
       "listing_id                              0\n",
       "listing_stars                           0\n",
       "listing_review_score                 1017\n",
       "is_brand                                0\n",
       "location_score1                         0\n",
       "location_score2                    259624\n",
       "log_historical_price                    0\n",
       "listing_position                        0\n",
       "price_usd                               0\n",
       "has_promotion                           0\n",
       "destination_id                          0\n",
       "length_of_stay                          0\n",
       "booking_window                          0\n",
       "num_adults                              0\n",
       "num_kids                                0\n",
       "num_rooms                               0\n",
       "stay_on_saturday                        0\n",
       "log_click_proportion              1018569\n",
       "distance_to_dest                   138376\n",
       "random_sort                             0\n",
       "competitor1_rate                  1097790\n",
       "competitor1_has_availability      1096833\n",
       "competitor1_price_percent_diff    1100179\n",
       "competitor2_rate                   557062\n",
       "competitor2_has_availability       529809\n",
       "competitor2_price_percent_diff     971818\n",
       "competitor3_rate                   658823\n",
       "competitor3_has_availability       630074\n",
       "competitor3_price_percent_diff     979025\n",
       "competitor4_rate                  1082248\n",
       "competitor4_has_availability      1076833\n",
       "competitor4_price_percent_diff    1099164\n",
       "competitor5_rate                   645270\n",
       "competitor5_has_availability       616690\n",
       "competitor5_price_percent_diff     928733\n",
       "competitor6_rate                  1095400\n",
       "competitor6_has_availability      1093888\n",
       "competitor6_price_percent_diff    1105286\n",
       "competitor7_rate                  1091514\n",
       "competitor7_has_availability      1088617\n",
       "competitor7_price_percent_diff    1103053\n",
       "competitor8_rate                   530406\n",
       "competitor8_has_availability       510799\n",
       "competitor8_price_percent_diff     930471\n",
       "clicked                                 0\n",
       "booking_value                     1080841\n",
       "booked                                  0\n",
       "dtype: int64"
      ]
     },
     "execution_count": 17,
     "metadata": {},
     "output_type": "execute_result"
    }
   ],
   "source": [
    "id_219.isnull().sum()"
   ]
  },
  {
   "cell_type": "code",
   "execution_count": 18,
   "id": "b7b89ea1",
   "metadata": {},
   "outputs": [],
   "source": [
    "# As we can see, we have a lot of missing data in many features. \n",
    "# We are going to drop features that have more than 90% of NaN values.\n"
   ]
  },
  {
   "cell_type": "code",
   "execution_count": 19,
   "id": "67aeb58e",
   "metadata": {},
   "outputs": [],
   "source": [
    "col_drop = ['timestamp','user_hist_stars','user_hist_paid','log_click_proportion','competitor1_rate','competitor2_rate','competitor3_rate',\n",
    "            'competitor4_rate','competitor5_rate','competitor6_rate','competitor7_rate','competitor8_rate',\n",
    "            'competitor1_has_availability','competitor2_has_availability','competitor3_has_availability','competitor4_has_availability','competitor5_has_availability','competitor6_has_availability','competitor7_has_availability','competitor8_has_availability',\n",
    "            'competitor1_price_percent_diff','competitor2_price_percent_diff','competitor3_price_percent_diff','competitor4_price_percent_diff','competitor5_price_percent_diff','competitor6_price_percent_diff','competitor7_price_percent_diff','competitor8_price_percent_diff',\n",
    "             'booking_value']\n",
    "\n",
    "id_219.drop(col_drop,axis=1,inplace=True)"
   ]
  },
  {
   "cell_type": "code",
   "execution_count": 20,
   "id": "4f069fdd",
   "metadata": {},
   "outputs": [
    {
     "data": {
      "text/plain": [
       "search_id                    0\n",
       "site_id                      0\n",
       "listing_country_id           0\n",
       "listing_id                   0\n",
       "listing_stars                0\n",
       "listing_review_score      1017\n",
       "is_brand                     0\n",
       "location_score1              0\n",
       "location_score2         259624\n",
       "log_historical_price         0\n",
       "listing_position             0\n",
       "price_usd                    0\n",
       "has_promotion                0\n",
       "destination_id               0\n",
       "length_of_stay               0\n",
       "booking_window               0\n",
       "num_adults                   0\n",
       "num_kids                     0\n",
       "num_rooms                    0\n",
       "stay_on_saturday             0\n",
       "distance_to_dest        138376\n",
       "random_sort                  0\n",
       "clicked                      0\n",
       "booked                       0\n",
       "dtype: int64"
      ]
     },
     "execution_count": 20,
     "metadata": {},
     "output_type": "execute_result"
    }
   ],
   "source": [
    "id_219.isnull().sum()"
   ]
  },
  {
   "cell_type": "code",
   "execution_count": null,
   "id": "6bf20dab",
   "metadata": {},
   "outputs": [],
   "source": []
  },
  {
   "cell_type": "code",
   "execution_count": 21,
   "id": "ebf9fafd",
   "metadata": {},
   "outputs": [
    {
     "data": {
      "text/html": [
       "<div>\n",
       "<style scoped>\n",
       "    .dataframe tbody tr th:only-of-type {\n",
       "        vertical-align: middle;\n",
       "    }\n",
       "\n",
       "    .dataframe tbody tr th {\n",
       "        vertical-align: top;\n",
       "    }\n",
       "\n",
       "    .dataframe thead th {\n",
       "        text-align: right;\n",
       "    }\n",
       "</style>\n",
       "<table border=\"1\" class=\"dataframe\">\n",
       "  <thead>\n",
       "    <tr style=\"text-align: right;\">\n",
       "      <th></th>\n",
       "      <th>search_id</th>\n",
       "      <th>site_id</th>\n",
       "      <th>listing_country_id</th>\n",
       "      <th>listing_id</th>\n",
       "      <th>listing_stars</th>\n",
       "      <th>listing_review_score</th>\n",
       "      <th>is_brand</th>\n",
       "      <th>location_score1</th>\n",
       "      <th>location_score2</th>\n",
       "      <th>log_historical_price</th>\n",
       "      <th>...</th>\n",
       "      <th>length_of_stay</th>\n",
       "      <th>booking_window</th>\n",
       "      <th>num_adults</th>\n",
       "      <th>num_kids</th>\n",
       "      <th>num_rooms</th>\n",
       "      <th>stay_on_saturday</th>\n",
       "      <th>distance_to_dest</th>\n",
       "      <th>random_sort</th>\n",
       "      <th>clicked</th>\n",
       "      <th>booked</th>\n",
       "    </tr>\n",
       "  </thead>\n",
       "  <tbody>\n",
       "    <tr>\n",
       "      <th>30437</th>\n",
       "      <td>8534</td>\n",
       "      <td>5</td>\n",
       "      <td>219</td>\n",
       "      <td>57790</td>\n",
       "      <td>4</td>\n",
       "      <td>4.5</td>\n",
       "      <td>1</td>\n",
       "      <td>3.61</td>\n",
       "      <td>0.4602</td>\n",
       "      <td>5.50</td>\n",
       "      <td>...</td>\n",
       "      <td>4</td>\n",
       "      <td>28</td>\n",
       "      <td>1</td>\n",
       "      <td>0</td>\n",
       "      <td>1</td>\n",
       "      <td>0</td>\n",
       "      <td>1420.81</td>\n",
       "      <td>0</td>\n",
       "      <td>0</td>\n",
       "      <td>0</td>\n",
       "    </tr>\n",
       "    <tr>\n",
       "      <th>1393305</th>\n",
       "      <td>391260</td>\n",
       "      <td>5</td>\n",
       "      <td>154</td>\n",
       "      <td>126556</td>\n",
       "      <td>5</td>\n",
       "      <td>4.5</td>\n",
       "      <td>1</td>\n",
       "      <td>4.39</td>\n",
       "      <td>0.1173</td>\n",
       "      <td>5.16</td>\n",
       "      <td>...</td>\n",
       "      <td>4</td>\n",
       "      <td>9</td>\n",
       "      <td>1</td>\n",
       "      <td>0</td>\n",
       "      <td>1</td>\n",
       "      <td>0</td>\n",
       "      <td>5213.04</td>\n",
       "      <td>0</td>\n",
       "      <td>0</td>\n",
       "      <td>0</td>\n",
       "    </tr>\n",
       "    <tr>\n",
       "      <th>1478107</th>\n",
       "      <td>415131</td>\n",
       "      <td>5</td>\n",
       "      <td>100</td>\n",
       "      <td>18004</td>\n",
       "      <td>3</td>\n",
       "      <td>4.5</td>\n",
       "      <td>1</td>\n",
       "      <td>2.56</td>\n",
       "      <td>NaN</td>\n",
       "      <td>0.00</td>\n",
       "      <td>...</td>\n",
       "      <td>1</td>\n",
       "      <td>60</td>\n",
       "      <td>4</td>\n",
       "      <td>0</td>\n",
       "      <td>1</td>\n",
       "      <td>0</td>\n",
       "      <td>1641.07</td>\n",
       "      <td>0</td>\n",
       "      <td>0</td>\n",
       "      <td>0</td>\n",
       "    </tr>\n",
       "    <tr>\n",
       "      <th>1257928</th>\n",
       "      <td>352562</td>\n",
       "      <td>5</td>\n",
       "      <td>219</td>\n",
       "      <td>107306</td>\n",
       "      <td>3</td>\n",
       "      <td>3.5</td>\n",
       "      <td>1</td>\n",
       "      <td>1.95</td>\n",
       "      <td>NaN</td>\n",
       "      <td>4.60</td>\n",
       "      <td>...</td>\n",
       "      <td>1</td>\n",
       "      <td>1</td>\n",
       "      <td>1</td>\n",
       "      <td>1</td>\n",
       "      <td>1</td>\n",
       "      <td>1</td>\n",
       "      <td>160.09</td>\n",
       "      <td>1</td>\n",
       "      <td>0</td>\n",
       "      <td>0</td>\n",
       "    </tr>\n",
       "    <tr>\n",
       "      <th>1229730</th>\n",
       "      <td>344449</td>\n",
       "      <td>5</td>\n",
       "      <td>219</td>\n",
       "      <td>36458</td>\n",
       "      <td>4</td>\n",
       "      <td>4.5</td>\n",
       "      <td>1</td>\n",
       "      <td>2.89</td>\n",
       "      <td>0.1191</td>\n",
       "      <td>6.08</td>\n",
       "      <td>...</td>\n",
       "      <td>2</td>\n",
       "      <td>14</td>\n",
       "      <td>2</td>\n",
       "      <td>0</td>\n",
       "      <td>1</td>\n",
       "      <td>0</td>\n",
       "      <td>18.84</td>\n",
       "      <td>0</td>\n",
       "      <td>0</td>\n",
       "      <td>0</td>\n",
       "    </tr>\n",
       "  </tbody>\n",
       "</table>\n",
       "<p>5 rows × 24 columns</p>\n",
       "</div>"
      ],
      "text/plain": [
       "         search_id  site_id  listing_country_id  listing_id  listing_stars  \\\n",
       "30437         8534        5                 219       57790              4   \n",
       "1393305     391260        5                 154      126556              5   \n",
       "1478107     415131        5                 100       18004              3   \n",
       "1257928     352562        5                 219      107306              3   \n",
       "1229730     344449        5                 219       36458              4   \n",
       "\n",
       "         listing_review_score  is_brand  location_score1  location_score2  \\\n",
       "30437                     4.5         1             3.61           0.4602   \n",
       "1393305                   4.5         1             4.39           0.1173   \n",
       "1478107                   4.5         1             2.56              NaN   \n",
       "1257928                   3.5         1             1.95              NaN   \n",
       "1229730                   4.5         1             2.89           0.1191   \n",
       "\n",
       "         log_historical_price  ...  length_of_stay  booking_window  \\\n",
       "30437                    5.50  ...               4              28   \n",
       "1393305                  5.16  ...               4               9   \n",
       "1478107                  0.00  ...               1              60   \n",
       "1257928                  4.60  ...               1               1   \n",
       "1229730                  6.08  ...               2              14   \n",
       "\n",
       "         num_adults  num_kids  num_rooms  stay_on_saturday  distance_to_dest  \\\n",
       "30437             1         0          1                 0           1420.81   \n",
       "1393305           1         0          1                 0           5213.04   \n",
       "1478107           4         0          1                 0           1641.07   \n",
       "1257928           1         1          1                 1            160.09   \n",
       "1229730           2         0          1                 0             18.84   \n",
       "\n",
       "         random_sort  clicked  booked  \n",
       "30437              0        0       0  \n",
       "1393305            0        0       0  \n",
       "1478107            0        0       0  \n",
       "1257928            1        0       0  \n",
       "1229730            0        0       0  \n",
       "\n",
       "[5 rows x 24 columns]"
      ]
     },
     "execution_count": 21,
     "metadata": {},
     "output_type": "execute_result"
    }
   ],
   "source": [
    "id_219.head()"
   ]
  },
  {
   "cell_type": "markdown",
   "id": "b05db849",
   "metadata": {},
   "source": [
    "# location_score2, mean imputation"
   ]
  },
  {
   "cell_type": "code",
   "execution_count": 22,
   "id": "0dd57694",
   "metadata": {},
   "outputs": [
    {
     "data": {
      "text/plain": [
       "0.12402564439123788"
      ]
     },
     "execution_count": 22,
     "metadata": {},
     "output_type": "execute_result"
    }
   ],
   "source": [
    "id_219['location_score2'].mean()"
   ]
  },
  {
   "cell_type": "code",
   "execution_count": 23,
   "id": "8b94bd7c",
   "metadata": {},
   "outputs": [],
   "source": [
    "id_219['location_score2'].fillna((id_219['location_score2'].mean()), inplace=True)"
   ]
  },
  {
   "cell_type": "markdown",
   "id": "c9fae84d",
   "metadata": {},
   "source": [
    "# listing_review_score , mean imputation"
   ]
  },
  {
   "cell_type": "code",
   "execution_count": 24,
   "id": "79cbf6d9",
   "metadata": {},
   "outputs": [
    {
     "data": {
      "text/plain": [
       "3.854465821331147"
      ]
     },
     "execution_count": 24,
     "metadata": {},
     "output_type": "execute_result"
    }
   ],
   "source": [
    "id_219['listing_review_score'].mean()"
   ]
  },
  {
   "cell_type": "code",
   "execution_count": 25,
   "id": "fcd5aed6",
   "metadata": {},
   "outputs": [],
   "source": [
    "id_219['listing_review_score'].fillna((id_219['listing_review_score'].mean()), inplace=True)"
   ]
  },
  {
   "cell_type": "markdown",
   "id": "5efdcaa8",
   "metadata": {},
   "source": [
    "# distance_to_dest, Impute with median"
   ]
  },
  {
   "cell_type": "code",
   "execution_count": 26,
   "id": "0841be8f",
   "metadata": {},
   "outputs": [
    {
     "data": {
      "text/plain": [
       "341.59"
      ]
     },
     "execution_count": 26,
     "metadata": {},
     "output_type": "execute_result"
    }
   ],
   "source": [
    "id_219['distance_to_dest'].median()"
   ]
  },
  {
   "cell_type": "code",
   "execution_count": 27,
   "id": "ca98f000",
   "metadata": {},
   "outputs": [],
   "source": [
    "id_219['distance_to_dest'].fillna((id_219['distance_to_dest'].median()), inplace=True)"
   ]
  },
  {
   "cell_type": "code",
   "execution_count": 28,
   "id": "1445c929",
   "metadata": {},
   "outputs": [
    {
     "data": {
      "text/plain": [
       "search_id               0\n",
       "site_id                 0\n",
       "listing_country_id      0\n",
       "listing_id              0\n",
       "listing_stars           0\n",
       "listing_review_score    0\n",
       "is_brand                0\n",
       "location_score1         0\n",
       "location_score2         0\n",
       "log_historical_price    0\n",
       "listing_position        0\n",
       "price_usd               0\n",
       "has_promotion           0\n",
       "destination_id          0\n",
       "length_of_stay          0\n",
       "booking_window          0\n",
       "num_adults              0\n",
       "num_kids                0\n",
       "num_rooms               0\n",
       "stay_on_saturday        0\n",
       "distance_to_dest        0\n",
       "random_sort             0\n",
       "clicked                 0\n",
       "booked                  0\n",
       "dtype: int64"
      ]
     },
     "execution_count": 28,
     "metadata": {},
     "output_type": "execute_result"
    }
   ],
   "source": [
    "id_219.isnull().sum()"
   ]
  },
  {
   "cell_type": "code",
   "execution_count": 29,
   "id": "e3dae8ce",
   "metadata": {},
   "outputs": [
    {
     "data": {
      "text/plain": [
       "(1112134, 24)"
      ]
     },
     "execution_count": 29,
     "metadata": {},
     "output_type": "execute_result"
    }
   ],
   "source": [
    "id_219.shape\n",
    "# After basic data cleaning, our id_219 country data set contains over 1112135 observations and 25 features."
   ]
  },
  {
   "cell_type": "code",
   "execution_count": 30,
   "id": "df08d109",
   "metadata": {},
   "outputs": [
    {
     "data": {
      "image/png": "[encoded data removed]",
      "text/plain": [
       "<Figure size 432x288 with 1 Axes>"
      ]
     },
     "metadata": {
      "needs_background": "light"
     },
     "output_type": "display_data"
    },
    {
     "name": "stdout",
     "output_type": "stream",
     "text": [
      "0    0.971862\n",
      "1    0.028138\n",
      "Name: booked, dtype: float64\n"
     ]
    }
   ],
   "source": [
    "\n",
    "sns.countplot(x='booked',data=id_219, palette='hls')\n",
    "plt.show()\n",
    "\n",
    "print(id_219['booked'].value_counts()/len(id_219))"
   ]
  },
  {
   "cell_type": "code",
   "execution_count": 31,
   "id": "fe738722",
   "metadata": {},
   "outputs": [
    {
     "data": {
      "image/png": "[encoded data removed]",
      "text/plain": [
       "<Figure size 432x288 with 1 Axes>"
      ]
     },
     "metadata": {
      "needs_background": "light"
     },
     "output_type": "display_data"
    },
    {
     "name": "stdout",
     "output_type": "stream",
     "text": [
      "0    0.956896\n",
      "1    0.043104\n",
      "Name: clicked, dtype: float64\n"
     ]
    }
   ],
   "source": [
    "sns.countplot(x='clicked',data=id_219, palette='hls')\n",
    "plt.show()\n",
    "\n",
    "print(id_219['clicked'].value_counts()/len(id_219))"
   ]
  },
  {
   "cell_type": "code",
   "execution_count": 32,
   "id": "3febb344",
   "metadata": {},
   "outputs": [],
   "source": [
    "# Both booking rate(2.8%) and click through rate (4.3%) are extremely low. So, the class are very imbalanced."
   ]
  },
  {
   "cell_type": "code",
   "execution_count": 33,
   "id": "be1e95df",
   "metadata": {},
   "outputs": [
    {
     "data": {
      "image/png": "[encoded data removed]",
      "text/plain": [
       "<Figure size 432x288 with 1 Axes>"
      ]
     },
     "metadata": {
      "needs_background": "light"
     },
     "output_type": "display_data"
    }
   ],
   "source": [
    "n, bins, patches = plt.hist(id_219.length_of_stay, 50, density = 1, facecolor='yellow', alpha=0.75)\n",
    "plt.xlabel(' length of stay')\n",
    "plt.title('Histogram of length_of_stay')    # No outlier found\n",
    "plt.axis([0, 30, 0, 0.65])\n",
    "plt.show()"
   ]
  },
  {
   "cell_type": "code",
   "execution_count": 34,
   "id": "7148ae31",
   "metadata": {},
   "outputs": [
    {
     "data": {
      "text/plain": [
       "length_of_stay\n",
       "1    527216\n",
       "2    276374\n",
       "3    148701\n",
       "4     73941\n",
       "5     33996\n",
       "dtype: int64"
      ]
     },
     "execution_count": 34,
     "metadata": {},
     "output_type": "execute_result"
    }
   ],
   "source": [
    "id_219.groupby('length_of_stay').size().nlargest(5)"
   ]
  },
  {
   "cell_type": "code",
   "execution_count": 35,
   "id": "e243df85",
   "metadata": {},
   "outputs": [
    {
     "data": {
      "image/png": "[encoded data removed]",
      "text/plain": [
       "<Figure size 432x288 with 1 Axes>"
      ]
     },
     "metadata": {
      "needs_background": "light"
     },
     "output_type": "display_data"
    }
   ],
   "source": [
    "# Search adult counts\n",
    "n, bins, patches = plt.hist(id_219.num_adults, 20, density = 1, facecolor='blue', alpha=0.75)\n",
    "plt.xlabel(' adults count')                   \n",
    "plt.title('Histogram of adults_count')               # The most common search adults count is 2-adults\n",
    "plt.show()\n"
   ]
  },
  {
   "cell_type": "code",
   "execution_count": 36,
   "id": "df7746ab",
   "metadata": {},
   "outputs": [
    {
     "data": {
      "text/plain": [
       "num_adults\n",
       "2    741853\n",
       "1    247593\n",
       "4     56087\n",
       "3     49731\n",
       "6      7164\n",
       "dtype: int64"
      ]
     },
     "execution_count": 36,
     "metadata": {},
     "output_type": "execute_result"
    }
   ],
   "source": [
    "id_219.groupby('num_adults').size().nlargest(5)"
   ]
  },
  {
   "cell_type": "code",
   "execution_count": 37,
   "id": "c561016d",
   "metadata": {},
   "outputs": [
    {
     "data": {
      "image/png": "[encoded data removed]",
      "text/plain": [
       "<Figure size 432x288 with 1 Axes>"
      ]
     },
     "metadata": {
      "needs_background": "light"
     },
     "output_type": "display_data"
    }
   ],
   "source": [
    "n, bins, patches = plt.hist(id_219.listing_stars, 20, density = 1, facecolor='red', alpha=0.75)\n",
    "plt.xlabel('star rating')\n",
    "plt.title('Histogram of star_rating')       # The most common property star rating is 3 stars. \n",
    "plt.show()"
   ]
  },
  {
   "cell_type": "code",
   "execution_count": 38,
   "id": "37877b7a",
   "metadata": {},
   "outputs": [
    {
     "name": "stdout",
     "output_type": "stream",
     "text": [
      "is_brand\n",
      "0    295572\n",
      "1    816562\n",
      "dtype: int64\n",
      "is_brand\n",
      "0    0.26577\n",
      "1    0.73423\n",
      "dtype: float64\n"
     ]
    }
   ],
   "source": [
    "print(id_219.groupby('is_brand').size())\n",
    "print(id_219.groupby('is_brand').size()/len(id_219))   # More than 73% of the properties are brand properties"
   ]
  },
  {
   "cell_type": "code",
   "execution_count": 39,
   "id": "2db8171a",
   "metadata": {},
   "outputs": [
    {
     "name": "stdout",
     "output_type": "stream",
     "text": [
      "stay_on_saturday\n",
      "0    512451\n",
      "1    599683\n",
      "dtype: int64\n",
      "stay_on_saturday\n",
      "0    0.460782\n",
      "1    0.539218\n",
      "dtype: float64\n"
     ]
    }
   ],
   "source": [
    "print(id_219.groupby('stay_on_saturday').size())\n",
    "print(id_219.groupby('stay_on_saturday').size()/len(id_219))  # Around 54% of searches contain staying at Saturday."
   ]
  },
  {
   "cell_type": "code",
   "execution_count": null,
   "id": "eca43be5",
   "metadata": {},
   "outputs": [],
   "source": [
    "# Box Plot\n",
    "id_219.plot(kind='box', figsize=(12,12), layout=(5,5), sharex=False, subplots=True)"
   ]
  },
  {
   "cell_type": "code",
   "execution_count": null,
   "id": "8eb6cedc",
   "metadata": {},
   "outputs": [],
   "source": [
    "from dataprep.eda import plot\n",
    "plot(id_219)"
   ]
  },
  {
   "cell_type": "code",
   "execution_count": 40,
   "id": "819dfb2d",
   "metadata": {},
   "outputs": [
    {
     "data": {
      "text/plain": [
       "(0.0, 200.0)"
      ]
     },
     "execution_count": 40,
     "metadata": {},
     "output_type": "execute_result"
    },
    {
     "data": {
      "image/png": "[encoded data removed]",
      "text/plain": [
       "<Figure size 432x288 with 1 Axes>"
      ]
     },
     "metadata": {},
     "output_type": "display_data"
    }
   ],
   "source": [
    "sns.set(style=\"ticks\", palette=\"pastel\")\n",
    "\n",
    "ax = sns.boxplot(x=\"clicked\", y=\"price_usd\", hue=\"clicked\", data=id_219)\n",
    "ax.set_ylim([0, 200])"
   ]
  },
  {
   "cell_type": "code",
   "execution_count": 41,
   "id": "1119565c",
   "metadata": {},
   "outputs": [
    {
     "data": {
      "text/html": [
       "<div>\n",
       "<style scoped>\n",
       "    .dataframe tbody tr th:only-of-type {\n",
       "        vertical-align: middle;\n",
       "    }\n",
       "\n",
       "    .dataframe tbody tr th {\n",
       "        vertical-align: top;\n",
       "    }\n",
       "\n",
       "    .dataframe thead th {\n",
       "        text-align: right;\n",
       "    }\n",
       "</style>\n",
       "<table border=\"1\" class=\"dataframe\">\n",
       "  <thead>\n",
       "    <tr style=\"text-align: right;\">\n",
       "      <th></th>\n",
       "      <th>count</th>\n",
       "      <th>mean</th>\n",
       "      <th>std</th>\n",
       "      <th>min</th>\n",
       "      <th>25%</th>\n",
       "      <th>50%</th>\n",
       "      <th>75%</th>\n",
       "      <th>max</th>\n",
       "    </tr>\n",
       "    <tr>\n",
       "      <th>clicked</th>\n",
       "      <th></th>\n",
       "      <th></th>\n",
       "      <th></th>\n",
       "      <th></th>\n",
       "      <th></th>\n",
       "      <th></th>\n",
       "      <th></th>\n",
       "      <th></th>\n",
       "    </tr>\n",
       "  </thead>\n",
       "  <tbody>\n",
       "    <tr>\n",
       "      <th>0</th>\n",
       "      <td>1064197.0</td>\n",
       "      <td>163.202650</td>\n",
       "      <td>1822.917831</td>\n",
       "      <td>0.04</td>\n",
       "      <td>82.0</td>\n",
       "      <td>119.0</td>\n",
       "      <td>179.0</td>\n",
       "      <td>722556.0</td>\n",
       "    </tr>\n",
       "    <tr>\n",
       "      <th>1</th>\n",
       "      <td>47937.0</td>\n",
       "      <td>145.275046</td>\n",
       "      <td>1010.029371</td>\n",
       "      <td>0.09</td>\n",
       "      <td>82.0</td>\n",
       "      <td>112.0</td>\n",
       "      <td>162.0</td>\n",
       "      <td>172761.0</td>\n",
       "    </tr>\n",
       "  </tbody>\n",
       "</table>\n",
       "</div>"
      ],
      "text/plain": [
       "             count        mean          std   min   25%    50%    75%  \\\n",
       "clicked                                                                 \n",
       "0        1064197.0  163.202650  1822.917831  0.04  82.0  119.0  179.0   \n",
       "1          47937.0  145.275046  1010.029371  0.09  82.0  112.0  162.0   \n",
       "\n",
       "              max  \n",
       "clicked            \n",
       "0        722556.0  \n",
       "1        172761.0  "
      ]
     },
     "execution_count": 41,
     "metadata": {},
     "output_type": "execute_result"
    }
   ],
   "source": [
    "id_219.groupby('clicked')['price_usd'].describe()"
   ]
  },
  {
   "cell_type": "code",
   "execution_count": 42,
   "id": "fdf531db",
   "metadata": {},
   "outputs": [
    {
     "data": {
      "text/plain": [
       "(0.0, 200.0)"
      ]
     },
     "execution_count": 42,
     "metadata": {},
     "output_type": "execute_result"
    },
    {
     "data": {
      "image/png": "[encoded data removed]",
      "text/plain": [
       "<Figure size 432x288 with 1 Axes>"
      ]
     },
     "metadata": {},
     "output_type": "display_data"
    }
   ],
   "source": [
    "ax = sns.boxplot(x=\"booked\", y=\"price_usd\", hue=\"booked\", data=id_219)\n",
    "ax.set_ylim([0, 200])"
   ]
  },
  {
   "cell_type": "code",
   "execution_count": 43,
   "id": "e03c7d72",
   "metadata": {},
   "outputs": [
    {
     "data": {
      "text/html": [
       "<div>\n",
       "<style scoped>\n",
       "    .dataframe tbody tr th:only-of-type {\n",
       "        vertical-align: middle;\n",
       "    }\n",
       "\n",
       "    .dataframe tbody tr th {\n",
       "        vertical-align: top;\n",
       "    }\n",
       "\n",
       "    .dataframe thead th {\n",
       "        text-align: right;\n",
       "    }\n",
       "</style>\n",
       "<table border=\"1\" class=\"dataframe\">\n",
       "  <thead>\n",
       "    <tr style=\"text-align: right;\">\n",
       "      <th></th>\n",
       "      <th>count</th>\n",
       "      <th>mean</th>\n",
       "      <th>std</th>\n",
       "      <th>min</th>\n",
       "      <th>25%</th>\n",
       "      <th>50%</th>\n",
       "      <th>75%</th>\n",
       "      <th>max</th>\n",
       "    </tr>\n",
       "    <tr>\n",
       "      <th>booked</th>\n",
       "      <th></th>\n",
       "      <th></th>\n",
       "      <th></th>\n",
       "      <th></th>\n",
       "      <th></th>\n",
       "      <th></th>\n",
       "      <th></th>\n",
       "      <th></th>\n",
       "    </tr>\n",
       "  </thead>\n",
       "  <tbody>\n",
       "    <tr>\n",
       "      <th>0</th>\n",
       "      <td>1080841.0</td>\n",
       "      <td>163.091495</td>\n",
       "      <td>1808.953531</td>\n",
       "      <td>0.04</td>\n",
       "      <td>82.0</td>\n",
       "      <td>119.0</td>\n",
       "      <td>179.0</td>\n",
       "      <td>722556.0</td>\n",
       "    </tr>\n",
       "    <tr>\n",
       "      <th>1</th>\n",
       "      <td>31293.0</td>\n",
       "      <td>139.578987</td>\n",
       "      <td>1243.778466</td>\n",
       "      <td>0.09</td>\n",
       "      <td>79.0</td>\n",
       "      <td>109.0</td>\n",
       "      <td>152.0</td>\n",
       "      <td>172761.0</td>\n",
       "    </tr>\n",
       "  </tbody>\n",
       "</table>\n",
       "</div>"
      ],
      "text/plain": [
       "            count        mean          std   min   25%    50%    75%       max\n",
       "booked                                                                        \n",
       "0       1080841.0  163.091495  1808.953531  0.04  82.0  119.0  179.0  722556.0\n",
       "1         31293.0  139.578987  1243.778466  0.09  79.0  109.0  152.0  172761.0"
      ]
     },
     "execution_count": 43,
     "metadata": {},
     "output_type": "execute_result"
    }
   ],
   "source": [
    "id_219.groupby('booked')['price_usd'].describe()"
   ]
  },
  {
   "cell_type": "code",
   "execution_count": 44,
   "id": "d73adcfa",
   "metadata": {},
   "outputs": [],
   "source": [
    "# On average, the price_usd that received a click or booking is always lower than those of did not get a click or booking."
   ]
  },
  {
   "cell_type": "code",
   "execution_count": 45,
   "id": "170dc179",
   "metadata": {},
   "outputs": [
    {
     "data": {
      "text/plain": [
       "Text(0.5, 1.0, 'Correlation between different fearures')"
      ]
     },
     "execution_count": 45,
     "metadata": {},
     "output_type": "execute_result"
    },
    {
     "data": {
      "image/png": "[encoded data removed]",
      "text/plain": [
       "<Figure size 1296x1296 with 2 Axes>"
      ]
     },
     "metadata": {},
     "output_type": "display_data"
    }
   ],
   "source": [
    "correlation = id_219.corr()\n",
    "plt.figure(figsize=(18, 18))\n",
    "sns.heatmap(correlation, vmax=1, square=True,annot=True,cmap='viridis')\n",
    "plt.title('Correlation between different fearures')"
   ]
  },
  {
   "cell_type": "markdown",
   "id": "c21b0cb2",
   "metadata": {},
   "source": [
    "# Finding the Skewness  \n",
    "# Detecting and Replacing the Outlier with Median"
   ]
  },
  {
   "cell_type": "code",
   "execution_count": 46,
   "id": "23e7947c",
   "metadata": {},
   "outputs": [
    {
     "name": "stdout",
     "output_type": "stream",
     "text": [
      "Skewness of price_usd: 185.5401429096586\n",
      "Skewness of num_rooms: 6.503532704901748\n",
      "Skewness of num_kids: 2.4251334443926855\n",
      "Skewness of num_adults: 2.355174246158279\n",
      "Skewness of length_of_stay: 3.9370934306722982\n",
      "Skewness of listing_stars: -0.5898795610759789\n",
      "Skewness of listing_review_score: -2.239995646215954\n",
      "Skewness of log_historical_price : -1.7213721130338926\n",
      "Skewness of stay_on_saturday: -0.1573581982791615\n",
      "Skewness of distance_to_dest: 2.8519688737780813\n"
     ]
    }
   ],
   "source": [
    "print('Skewness of price_usd:',id_219['price_usd'].skew())\n",
    "print('Skewness of num_rooms:',id_219['num_rooms'].skew())\n",
    "print('Skewness of num_kids:',id_219['num_kids'].skew())\n",
    "print('Skewness of num_adults:',id_219['num_adults'].skew())\n",
    "print('Skewness of length_of_stay:',id_219['length_of_stay'].skew())\n",
    "print('Skewness of listing_stars:',id_219['listing_stars'].skew())\n",
    "print('Skewness of listing_review_score:',id_219['listing_review_score'].skew())\n",
    "print('Skewness of log_historical_price :',id_219['log_historical_price'].skew())\n",
    "print('Skewness of stay_on_saturday:',id_219['stay_on_saturday'].skew())\n",
    "print('Skewness of distance_to_dest:',id_219['distance_to_dest'].skew())"
   ]
  },
  {
   "cell_type": "code",
   "execution_count": 47,
   "id": "896b51e0",
   "metadata": {},
   "outputs": [],
   "source": [
    "#Write a function to calculate IOR for each numerical attribute and show skewness\n",
    "def detection_outlier(id_219column):\n",
    "#Calculate Q1, Q3 and IQR\n",
    " Q1 = id_219column.quantile(0.25)\n",
    " Q3 = id_219column.quantile(0.75)\n",
    " IQR = Q3-Q1                 #Interquartile range\n",
    "#In general, constant should be 1.\n",
    " lower  = Q1-1*IQR\n",
    " higher = Q3+1*IQR\n",
    "#Find number of outliers for specific column\n",
    " print('Before data preprocessing:')\n",
    " print('Skewness:',id_219column.skew())\n",
    " print(id_219column.describe())\n",
    " id_219column.loc[(id_219column> higher) | (id_219column< lower)]=id_219column.median()\n",
    " print('After replacing outliers by median:')\n",
    " print('Skewness:',id_219column.skew())\n",
    " print('Median:',id_219column.median())\n",
    " print('Mean:',id_219column.mean())\n",
    " print('Mode:',id_219column.mode())\n",
    " print('IQR value:',IQR)\n",
    " print('Lower,Higher:',lower,',',higher)\n",
    " return "
   ]
  },
  {
   "cell_type": "code",
   "execution_count": 48,
   "id": "af745657",
   "metadata": {},
   "outputs": [
    {
     "name": "stdout",
     "output_type": "stream",
     "text": [
      "Before data preprocessing:\n",
      "Skewness: 2.355174246158279\n",
      "count    1.112134e+06\n",
      "mean     1.983950e+00\n",
      "std      8.551632e-01\n",
      "min      1.000000e+00\n",
      "25%      2.000000e+00\n",
      "50%      2.000000e+00\n",
      "75%      2.000000e+00\n",
      "max      9.000000e+00\n",
      "Name: num_adults, dtype: float64\n",
      "After replacing outliers by median:\n",
      "Skewness: 0\n",
      "Median: 2.0\n",
      "Mean: 2.0\n",
      "Mode: 0    2\n",
      "Name: num_adults, dtype: int64\n",
      "IQR value: 0.0\n",
      "Lower,Higher: 2.0 , 2.0\n"
     ]
    },
    {
     "name": "stderr",
     "output_type": "stream",
     "text": [
      "C:\\Users\\dell\\AppData\\Local\\Temp\\ipykernel_8428\\3999154341.py:14: SettingWithCopyWarning: \n",
      "A value is trying to be set on a copy of a slice from a DataFrame\n",
      "\n",
      "See the caveats in the documentation: https://pandas.pydata.org/pandas-docs/stable/user_guide/indexing.html#returning-a-view-versus-a-copy\n",
      "  id_219column.loc[(id_219column> higher) | (id_219column< lower)]=id_219column.median()\n"
     ]
    }
   ],
   "source": [
    "detection_outlier(id_219['num_adults'])"
   ]
  },
  {
   "cell_type": "code",
   "execution_count": 49,
   "id": "72e0f4fd",
   "metadata": {},
   "outputs": [
    {
     "name": "stdout",
     "output_type": "stream",
     "text": [
      "Before data preprocessing:\n",
      "Skewness: 6.503532704901748\n"
     ]
    },
    {
     "name": "stderr",
     "output_type": "stream",
     "text": [
      "C:\\Users\\dell\\AppData\\Local\\Temp\\ipykernel_8428\\3999154341.py:14: SettingWithCopyWarning: \n",
      "A value is trying to be set on a copy of a slice from a DataFrame\n",
      "\n",
      "See the caveats in the documentation: https://pandas.pydata.org/pandas-docs/stable/user_guide/indexing.html#returning-a-view-versus-a-copy\n",
      "  id_219column.loc[(id_219column> higher) | (id_219column< lower)]=id_219column.median()\n"
     ]
    },
    {
     "name": "stdout",
     "output_type": "stream",
     "text": [
      "count    1.112134e+06\n",
      "mean     1.097124e+00\n",
      "std      3.909036e-01\n",
      "min      1.000000e+00\n",
      "25%      1.000000e+00\n",
      "50%      1.000000e+00\n",
      "75%      1.000000e+00\n",
      "max      8.000000e+00\n",
      "Name: num_rooms, dtype: float64\n",
      "After replacing outliers by median:\n",
      "Skewness: 0\n",
      "Median: 1.0\n",
      "Mean: 1.0\n",
      "Mode: 0    1\n",
      "Name: num_rooms, dtype: int64\n",
      "IQR value: 0.0\n",
      "Lower,Higher: 1.0 , 1.0\n"
     ]
    }
   ],
   "source": [
    "detection_outlier(id_219['num_rooms'])\n",
    "\n"
   ]
  },
  {
   "cell_type": "code",
   "execution_count": 50,
   "id": "f82e8fa2",
   "metadata": {
    "scrolled": true
   },
   "outputs": [
    {
     "name": "stdout",
     "output_type": "stream",
     "text": [
      "Before data preprocessing:\n",
      "Skewness: 2.4251334443926855\n",
      "count    1.112134e+06\n",
      "mean     3.656232e-01\n",
      "std      7.649104e-01\n",
      "min      0.000000e+00\n",
      "25%      0.000000e+00\n",
      "50%      0.000000e+00\n",
      "75%      0.000000e+00\n",
      "max      9.000000e+00\n",
      "Name: num_kids, dtype: float64\n",
      "After replacing outliers by median:\n",
      "Skewness: 0\n",
      "Median: 0.0\n",
      "Mean: 0.0\n",
      "Mode: 0    0\n",
      "Name: num_kids, dtype: int64\n",
      "IQR value: 0.0\n",
      "Lower,Higher: 0.0 , 0.0\n"
     ]
    },
    {
     "name": "stderr",
     "output_type": "stream",
     "text": [
      "C:\\Users\\dell\\AppData\\Local\\Temp\\ipykernel_8428\\3999154341.py:14: SettingWithCopyWarning: \n",
      "A value is trying to be set on a copy of a slice from a DataFrame\n",
      "\n",
      "See the caveats in the documentation: https://pandas.pydata.org/pandas-docs/stable/user_guide/indexing.html#returning-a-view-versus-a-copy\n",
      "  id_219column.loc[(id_219column> higher) | (id_219column< lower)]=id_219column.median()\n"
     ]
    }
   ],
   "source": [
    "detection_outlier(id_219['num_kids'])"
   ]
  },
  {
   "cell_type": "code",
   "execution_count": 51,
   "id": "a6798cbc",
   "metadata": {
    "scrolled": true
   },
   "outputs": [
    {
     "name": "stdout",
     "output_type": "stream",
     "text": [
      "Before data preprocessing:\n",
      "Skewness: 3.9370934306722982\n",
      "count    1.112134e+06\n",
      "mean     2.154802e+00\n",
      "std      1.774211e+00\n",
      "min      1.000000e+00\n",
      "25%      1.000000e+00\n",
      "50%      2.000000e+00\n",
      "75%      3.000000e+00\n",
      "max      3.300000e+01\n",
      "Name: length_of_stay, dtype: float64\n",
      "After replacing outliers by median:\n",
      "Skewness: 1.1674166841517533\n",
      "Median: 2.0\n",
      "Mean: 1.8843259894940718\n",
      "Mode: 0    1\n",
      "Name: length_of_stay, dtype: int64\n",
      "IQR value: 2.0\n",
      "Lower,Higher: -1.0 , 5.0\n"
     ]
    },
    {
     "name": "stderr",
     "output_type": "stream",
     "text": [
      "C:\\Users\\dell\\AppData\\Local\\Temp\\ipykernel_8428\\3999154341.py:14: SettingWithCopyWarning: \n",
      "A value is trying to be set on a copy of a slice from a DataFrame\n",
      "\n",
      "See the caveats in the documentation: https://pandas.pydata.org/pandas-docs/stable/user_guide/indexing.html#returning-a-view-versus-a-copy\n",
      "  id_219column.loc[(id_219column> higher) | (id_219column< lower)]=id_219column.median()\n"
     ]
    }
   ],
   "source": [
    "detection_outlier(id_219['length_of_stay'])"
   ]
  },
  {
   "cell_type": "code",
   "execution_count": 52,
   "id": "8de12e27",
   "metadata": {},
   "outputs": [
    {
     "name": "stdout",
     "output_type": "stream",
     "text": [
      "Before data preprocessing:\n",
      "Skewness: -2.239995646215954\n",
      "count    1.112134e+06\n",
      "mean     3.854466e+00\n",
      "std      8.983785e-01\n",
      "min      0.000000e+00\n",
      "25%      3.500000e+00\n",
      "50%      4.000000e+00\n",
      "75%      4.500000e+00\n",
      "max      5.000000e+00\n",
      "Name: listing_review_score, dtype: float64\n"
     ]
    },
    {
     "name": "stderr",
     "output_type": "stream",
     "text": [
      "C:\\Users\\dell\\AppData\\Local\\Temp\\ipykernel_8428\\3999154341.py:14: SettingWithCopyWarning: \n",
      "A value is trying to be set on a copy of a slice from a DataFrame\n",
      "\n",
      "See the caveats in the documentation: https://pandas.pydata.org/pandas-docs/stable/user_guide/indexing.html#returning-a-view-versus-a-copy\n",
      "  id_219column.loc[(id_219column> higher) | (id_219column< lower)]=id_219column.median()\n"
     ]
    },
    {
     "name": "stdout",
     "output_type": "stream",
     "text": [
      "After replacing outliers by median:\n",
      "Skewness: -0.6826828805912986\n",
      "Median: 4.0\n",
      "Mean: 3.9991017195232614\n",
      "Mode: 0    4.0\n",
      "Name: listing_review_score, dtype: float64\n",
      "IQR value: 1.0\n",
      "Lower,Higher: 2.5 , 5.5\n"
     ]
    }
   ],
   "source": [
    "detection_outlier(id_219['listing_review_score'])"
   ]
  },
  {
   "cell_type": "code",
   "execution_count": 53,
   "id": "c590f5b5",
   "metadata": {},
   "outputs": [
    {
     "name": "stdout",
     "output_type": "stream",
     "text": [
      "Before data preprocessing:\n",
      "Skewness: -1.7213721130338926\n",
      "count    1.112134e+06\n",
      "mean     4.270248e+00\n",
      "std      1.826668e+00\n",
      "min      0.000000e+00\n",
      "25%      4.390000e+00\n",
      "50%      4.860000e+00\n",
      "75%      5.260000e+00\n",
      "max      6.210000e+00\n",
      "Name: log_historical_price, dtype: float64\n",
      "After replacing outliers by median:\n",
      "Skewness: 0.27796965606928087\n",
      "Median: 4.86\n",
      "Mean: 4.952759478631256\n",
      "Mode: 0    4.86\n",
      "Name: log_historical_price, dtype: float64\n",
      "IQR value: 0.8700000000000001\n",
      "Lower,Higher: 3.5199999999999996 , 6.13\n"
     ]
    },
    {
     "name": "stderr",
     "output_type": "stream",
     "text": [
      "C:\\Users\\dell\\AppData\\Local\\Temp\\ipykernel_8428\\3999154341.py:14: SettingWithCopyWarning: \n",
      "A value is trying to be set on a copy of a slice from a DataFrame\n",
      "\n",
      "See the caveats in the documentation: https://pandas.pydata.org/pandas-docs/stable/user_guide/indexing.html#returning-a-view-versus-a-copy\n",
      "  id_219column.loc[(id_219column> higher) | (id_219column< lower)]=id_219column.median()\n"
     ]
    }
   ],
   "source": [
    "detection_outlier(id_219['log_historical_price'])"
   ]
  },
  {
   "cell_type": "code",
   "execution_count": 54,
   "id": "79da0a78",
   "metadata": {},
   "outputs": [
    {
     "name": "stdout",
     "output_type": "stream",
     "text": [
      "Before data preprocessing:\n",
      "Skewness: 2.8519688737780813\n",
      "count    1.112134e+06\n",
      "mean     9.434867e+02\n",
      "std      1.514815e+03\n",
      "min      1.000000e-02\n",
      "25%      1.515600e+02\n",
      "50%      3.415900e+02\n",
      "75%      9.870400e+02\n",
      "max      1.140753e+04\n",
      "Name: distance_to_dest, dtype: float64\n",
      "After replacing outliers by median:\n",
      "Skewness: 1.7434172045720504\n",
      "Median: 341.59\n",
      "Mean: 402.09047374449835\n",
      "Mode: 0    341.59\n",
      "Name: distance_to_dest, dtype: float64\n",
      "IQR value: 835.48\n",
      "Lower,Higher: -683.9200000000001 , 1822.52\n"
     ]
    },
    {
     "name": "stderr",
     "output_type": "stream",
     "text": [
      "C:\\Users\\dell\\AppData\\Local\\Temp\\ipykernel_8428\\3999154341.py:14: SettingWithCopyWarning: \n",
      "A value is trying to be set on a copy of a slice from a DataFrame\n",
      "\n",
      "See the caveats in the documentation: https://pandas.pydata.org/pandas-docs/stable/user_guide/indexing.html#returning-a-view-versus-a-copy\n",
      "  id_219column.loc[(id_219column> higher) | (id_219column< lower)]=id_219column.median()\n"
     ]
    }
   ],
   "source": [
    "detection_outlier(id_219['distance_to_dest'])"
   ]
  },
  {
   "cell_type": "code",
   "execution_count": 55,
   "id": "55067e7f",
   "metadata": {},
   "outputs": [
    {
     "name": "stdout",
     "output_type": "stream",
     "text": [
      "Before data preprocessing:\n",
      "Skewness: 185.5401429096586\n",
      "count    1.112134e+06\n",
      "mean     1.624299e+02\n",
      "std      1.795489e+03\n",
      "min      4.000000e-02\n",
      "25%      8.200000e+01\n",
      "50%      1.186000e+02\n",
      "75%      1.780000e+02\n",
      "max      7.225560e+05\n",
      "Name: price_usd, dtype: float64\n",
      "After replacing outliers by median:\n",
      "Skewness: 0.7947564434982488\n",
      "Median: 118.595\n",
      "Mean: 121.33770257878346\n",
      "Mode: 0    118.6\n",
      "Name: price_usd, dtype: float64\n",
      "IQR value: 96.0\n",
      "Lower,Higher: -14.0 , 274.0\n"
     ]
    },
    {
     "name": "stderr",
     "output_type": "stream",
     "text": [
      "C:\\Users\\dell\\AppData\\Local\\Temp\\ipykernel_8428\\3999154341.py:14: SettingWithCopyWarning: \n",
      "A value is trying to be set on a copy of a slice from a DataFrame\n",
      "\n",
      "See the caveats in the documentation: https://pandas.pydata.org/pandas-docs/stable/user_guide/indexing.html#returning-a-view-versus-a-copy\n",
      "  id_219column.loc[(id_219column> higher) | (id_219column< lower)]=id_219column.median()\n"
     ]
    }
   ],
   "source": [
    "detection_outlier(id_219['price_usd'])"
   ]
  },
  {
   "cell_type": "markdown",
   "id": "2b4c3132",
   "metadata": {},
   "source": [
    "# Balancing the Data"
   ]
  },
  {
   "cell_type": "code",
   "execution_count": 56,
   "id": "91fcc257",
   "metadata": {},
   "outputs": [],
   "source": [
    "\n",
    "\n",
    "click_indices = id_219[id_219.clicked == 1].index\n",
    "random_indices = np.random.choice(click_indices, len(id_219.loc[id_219.clicked == 1]), replace=False)\n",
    "click_sample = id_219.loc[random_indices]\n",
    "\n",
    "not_click = id_219[id_219.clicked == 0].index\n",
    "random_indices = np.random.choice(not_click, sum(id_219['clicked']), replace=False)\n",
    "not_click_sample = id_219.loc[random_indices]\n",
    "\n",
    "id_219_new = pd.concat([not_click_sample, click_sample], axis=0)"
   ]
  },
  {
   "cell_type": "code",
   "execution_count": 57,
   "id": "6b2a740e",
   "metadata": {},
   "outputs": [
    {
     "name": "stdout",
     "output_type": "stream",
     "text": [
      "Percentage of not click impressions:  0.5\n",
      "Percentage of click impression:  0.5\n",
      "Total number of records in resampled data:  95874\n"
     ]
    }
   ],
   "source": [
    "print(\"Percentage of not click impressions: \", len(id_219_new[id_219_new.clicked == 0])/len(id_219_new))\n",
    "print(\"Percentage of click impression: \", len(id_219_new[id_219_new.clicked == 1])/len(id_219_new))\n",
    "print(\"Total number of records in resampled data: \", len(id_219_new))"
   ]
  },
  {
   "cell_type": "code",
   "execution_count": 58,
   "id": "8a747b29",
   "metadata": {},
   "outputs": [],
   "source": [
    "from sklearn.ensemble import RandomForestClassifier\n",
    "from sklearn.ensemble import GradientBoostingClassifier\n",
    "from sklearn.ensemble import BaggingClassifier\n",
    "from sklearn.ensemble import AdaBoostClassifier"
   ]
  },
  {
   "cell_type": "code",
   "execution_count": 59,
   "id": "86a1a53c",
   "metadata": {},
   "outputs": [],
   "source": [
    "from sklearn import metrics\n",
    "from sklearn.model_selection import train_test_split\n",
    "from sklearn.preprocessing import MinMaxScaler"
   ]
  },
  {
   "cell_type": "code",
   "execution_count": 60,
   "id": "0ff9bb8a",
   "metadata": {},
   "outputs": [],
   "source": [
    "mms = MinMaxScaler()\n",
    "id_219[['price_usd','distance_to_dest']] = mms.fit_transform(id_219[['price_usd','distance_to_dest']])"
   ]
  },
  {
   "cell_type": "code",
   "execution_count": 61,
   "id": "776ce871",
   "metadata": {},
   "outputs": [],
   "source": [
    "\n",
    "Y1=id_219_new['clicked']\n",
    "Y2=id_219_new['booked']\n",
    "X=id_219_new.drop(['clicked','booked'],axis=1)"
   ]
  },
  {
   "cell_type": "code",
   "execution_count": 62,
   "id": "0225982f",
   "metadata": {},
   "outputs": [
    {
     "data": {
      "text/plain": [
       "search_id               False\n",
       "site_id                 False\n",
       "listing_country_id      False\n",
       "listing_id              False\n",
       "listing_stars           False\n",
       "listing_review_score    False\n",
       "is_brand                False\n",
       "location_score1         False\n",
       "location_score2         False\n",
       "log_historical_price    False\n",
       "listing_position        False\n",
       "price_usd               False\n",
       "has_promotion           False\n",
       "destination_id          False\n",
       "length_of_stay          False\n",
       "booking_window          False\n",
       "num_adults              False\n",
       "num_kids                False\n",
       "num_rooms               False\n",
       "stay_on_saturday        False\n",
       "distance_to_dest        False\n",
       "random_sort             False\n",
       "dtype: bool"
      ]
     },
     "execution_count": 62,
     "metadata": {},
     "output_type": "execute_result"
    }
   ],
   "source": [
    "np.isnan(np.sum(X))"
   ]
  },
  {
   "cell_type": "code",
   "execution_count": 63,
   "id": "173bb42e",
   "metadata": {},
   "outputs": [],
   "source": [
    "X_train,X_test,y_train,y_test = train_test_split(X,Y1,test_size=0.3,random_state=1)"
   ]
  },
  {
   "cell_type": "markdown",
   "id": "213ae572",
   "metadata": {},
   "source": [
    "# Random Forest"
   ]
  },
  {
   "cell_type": "code",
   "execution_count": 64,
   "id": "0bac2b5c",
   "metadata": {},
   "outputs": [],
   "source": [
    "rf=RandomForestClassifier()"
   ]
  },
  {
   "cell_type": "code",
   "execution_count": 65,
   "id": "3bc02020",
   "metadata": {},
   "outputs": [],
   "source": [
    "model = rf.fit(X_train, y_train)\n",
    "prediction1 = model.predict(X_test)"
   ]
  },
  {
   "cell_type": "code",
   "execution_count": 66,
   "id": "3586fcbf",
   "metadata": {},
   "outputs": [
    {
     "name": "stdout",
     "output_type": "stream",
     "text": [
      "Acc on training data: 1.000\n",
      "Acc on test data: 0.692\n"
     ]
    }
   ],
   "source": [
    "print(\"Acc on training data: {:,.3f}\".format(rf.score(X_train, y_train)))\n",
    "print(\"Acc on test data: {:,.3f}\".format(rf.score(X_test, y_test)))"
   ]
  },
  {
   "cell_type": "code",
   "execution_count": 67,
   "id": "7918856e",
   "metadata": {},
   "outputs": [
    {
     "data": {
      "text/plain": [
       "array([[10058,  4350],\n",
       "       [ 4507,  9848]], dtype=int64)"
      ]
     },
     "execution_count": 67,
     "metadata": {},
     "output_type": "execute_result"
    }
   ],
   "source": [
    "from sklearn.metrics import confusion_matrix\n",
    "confusion_matrix(y_test,prediction1)"
   ]
  },
  {
   "cell_type": "code",
   "execution_count": 68,
   "id": "6437038a",
   "metadata": {
    "scrolled": true
   },
   "outputs": [
    {
     "name": "stdout",
     "output_type": "stream",
     "text": [
      "              precision    recall  f1-score   support\n",
      "\n",
      "           0       0.69      0.70      0.69     14408\n",
      "           1       0.69      0.69      0.69     14355\n",
      "\n",
      "    accuracy                           0.69     28763\n",
      "   macro avg       0.69      0.69      0.69     28763\n",
      "weighted avg       0.69      0.69      0.69     28763\n",
      "\n"
     ]
    }
   ],
   "source": [
    "print(metrics.classification_report(y_test,prediction1))"
   ]
  },
  {
   "cell_type": "markdown",
   "id": "5266e783",
   "metadata": {},
   "source": [
    "# Over Sampling On Clicked Prediction"
   ]
  },
  {
   "cell_type": "code",
   "execution_count": 69,
   "id": "4297f718",
   "metadata": {},
   "outputs": [],
   "source": [
    "from imblearn.over_sampling import RandomOverSampler "
   ]
  },
  {
   "cell_type": "code",
   "execution_count": 70,
   "id": "11cda9c2",
   "metadata": {},
   "outputs": [],
   "source": [
    "ros=RandomOverSampler(random_state=42)\n",
    "X_resampled,Y1_resampled = ros.fit_resample(X,Y1)\n",
    "xr_train,xr_test,yr_train,yr_test = train_test_split(X_resampled, Y1_resampled, test_size=0.2, random_state=42)\n"
   ]
  },
  {
   "cell_type": "code",
   "execution_count": 111,
   "id": "4f334d30",
   "metadata": {},
   "outputs": [
    {
     "name": "stdout",
     "output_type": "stream",
     "text": [
      "Acuuracy train 0.8876520234289943 | test 0.6959551043493953\n",
      "F1 train 0.8879900422922583 | test 0.6958951915209936\n"
     ]
    }
   ],
   "source": [
    "from sklearn.model_selection import cross_val_score\n",
    "from sklearn.model_selection import cross_validate\n",
    "rf = RandomForestClassifier()\n",
    "\n",
    "result=cross_validate(rf,X_resampled,Y1_resampled,cv=5,scoring=['accuracy','f1'],return_train_score=True)\n",
    "print('Acuuracy','train',result['train_accuracy'].mean(),'| test',result['test_accuracy'].mean())\n",
    "print('F1','train',result['train_f1'].mean(),'| test',result['test_f1'].mean())\n"
   ]
  },
  {
   "cell_type": "markdown",
   "id": "8be37bce",
   "metadata": {},
   "source": [
    "# Bagging Classifier"
   ]
  },
  {
   "cell_type": "code",
   "execution_count": 71,
   "id": "fccd0758",
   "metadata": {},
   "outputs": [],
   "source": [
    "bagg = BaggingClassifier(n_estimators=51,random_state=42)\n",
    "model1 = bagg.fit(X_train, y_train)\n",
    "prediction2 = model1.predict(X_test)"
   ]
  },
  {
   "cell_type": "code",
   "execution_count": 72,
   "id": "c2053d59",
   "metadata": {},
   "outputs": [
    {
     "name": "stdout",
     "output_type": "stream",
     "text": [
      "Acc on test data: 0.692\n"
     ]
    }
   ],
   "source": [
    "print(\"Acc on test data: {:,.3f}\".format(rf.score(X_test, y_test)))"
   ]
  },
  {
   "cell_type": "code",
   "execution_count": 73,
   "id": "d032e85e",
   "metadata": {},
   "outputs": [
    {
     "name": "stdout",
     "output_type": "stream",
     "text": [
      "              precision    recall  f1-score   support\n",
      "\n",
      "           0       0.68      0.68      0.68     14408\n",
      "           1       0.68      0.68      0.68     14355\n",
      "\n",
      "    accuracy                           0.68     28763\n",
      "   macro avg       0.68      0.68      0.68     28763\n",
      "weighted avg       0.68      0.68      0.68     28763\n",
      "\n"
     ]
    }
   ],
   "source": [
    "print(metrics.classification_report(y_test,prediction2))"
   ]
  },
  {
   "cell_type": "markdown",
   "id": "087cee98",
   "metadata": {},
   "source": [
    "# Gradient Boosting Classifier"
   ]
  },
  {
   "cell_type": "code",
   "execution_count": 79,
   "id": "6c2d48b1",
   "metadata": {},
   "outputs": [],
   "source": [
    "from sklearn.ensemble import GradientBoostingClassifier"
   ]
  },
  {
   "cell_type": "code",
   "execution_count": 80,
   "id": "303f3e9d",
   "metadata": {},
   "outputs": [
    {
     "data": {
      "text/html": [
       "<style>#sk-container-id-2 {color: black;background-color: white;}#sk-container-id-2 pre{padding: 0;}#sk-container-id-2 div.sk-toggleable {background-color: white;}#sk-container-id-2 label.sk-toggleable__label {cursor: pointer;display: block;width: 100%;margin-bottom: 0;padding: 0.3em;box-sizing: border-box;text-align: center;}#sk-container-id-2 label.sk-toggleable__label-arrow:before {content: \"▸\";float: left;margin-right: 0.25em;color: #696969;}#sk-container-id-2 label.sk-toggleable__label-arrow:hover:before {color: black;}#sk-container-id-2 div.sk-estimator:hover label.sk-toggleable__label-arrow:before {color: black;}#sk-container-id-2 div.sk-toggleable__content {max-height: 0;max-width: 0;overflow: hidden;text-align: left;background-color: #f0f8ff;}#sk-container-id-2 div.sk-toggleable__content pre {margin: 0.2em;color: black;border-radius: 0.25em;background-color: #f0f8ff;}#sk-container-id-2 input.sk-toggleable__control:checked~div.sk-toggleable__content {max-height: 200px;max-width: 100%;overflow: auto;}#sk-container-id-2 input.sk-toggleable__control:checked~label.sk-toggleable__label-arrow:before {content: \"▾\";}#sk-container-id-2 div.sk-estimator input.sk-toggleable__control:checked~label.sk-toggleable__label {background-color: #d4ebff;}#sk-container-id-2 div.sk-label input.sk-toggleable__control:checked~label.sk-toggleable__label {background-color: #d4ebff;}#sk-container-id-2 input.sk-hidden--visually {border: 0;clip: rect(1px 1px 1px 1px);clip: rect(1px, 1px, 1px, 1px);height: 1px;margin: -1px;overflow: hidden;padding: 0;position: absolute;width: 1px;}#sk-container-id-2 div.sk-estimator {font-family: monospace;background-color: #f0f8ff;border: 1px dotted black;border-radius: 0.25em;box-sizing: border-box;margin-bottom: 0.5em;}#sk-container-id-2 div.sk-estimator:hover {background-color: #d4ebff;}#sk-container-id-2 div.sk-parallel-item::after {content: \"\";width: 100%;border-bottom: 1px solid gray;flex-grow: 1;}#sk-container-id-2 div.sk-label:hover label.sk-toggleable__label {background-color: #d4ebff;}#sk-container-id-2 div.sk-serial::before {content: \"\";position: absolute;border-left: 1px solid gray;box-sizing: border-box;top: 0;bottom: 0;left: 50%;z-index: 0;}#sk-container-id-2 div.sk-serial {display: flex;flex-direction: column;align-items: center;background-color: white;padding-right: 0.2em;padding-left: 0.2em;position: relative;}#sk-container-id-2 div.sk-item {position: relative;z-index: 1;}#sk-container-id-2 div.sk-parallel {display: flex;align-items: stretch;justify-content: center;background-color: white;position: relative;}#sk-container-id-2 div.sk-item::before, #sk-container-id-2 div.sk-parallel-item::before {content: \"\";position: absolute;border-left: 1px solid gray;box-sizing: border-box;top: 0;bottom: 0;left: 50%;z-index: -1;}#sk-container-id-2 div.sk-parallel-item {display: flex;flex-direction: column;z-index: 1;position: relative;background-color: white;}#sk-container-id-2 div.sk-parallel-item:first-child::after {align-self: flex-end;width: 50%;}#sk-container-id-2 div.sk-parallel-item:last-child::after {align-self: flex-start;width: 50%;}#sk-container-id-2 div.sk-parallel-item:only-child::after {width: 0;}#sk-container-id-2 div.sk-dashed-wrapped {border: 1px dashed gray;margin: 0 0.4em 0.5em 0.4em;box-sizing: border-box;padding-bottom: 0.4em;background-color: white;}#sk-container-id-2 div.sk-label label {font-family: monospace;font-weight: bold;display: inline-block;line-height: 1.2em;}#sk-container-id-2 div.sk-label-container {text-align: center;}#sk-container-id-2 div.sk-container {/* jupyter's `normalize.less` sets `[hidden] { display: none; }` but bootstrap.min.css set `[hidden] { display: none !important; }` so we also need the `!important` here to be able to override the default hidden behavior on the sphinx rendered scikit-learn.org. See: https://github.com/scikit-learn/scikit-learn/issues/21755 */display: inline-block !important;position: relative;}#sk-container-id-2 div.sk-text-repr-fallback {display: none;}</style><div id=\"sk-container-id-2\" class=\"sk-top-container\"><div class=\"sk-text-repr-fallback\"><pre>GradientBoostingClassifier()</pre><b>In a Jupyter environment, please rerun this cell to show the HTML representation or trust the notebook. <br />On GitHub, the HTML representation is unable to render, please try loading this page with nbviewer.org.</b></div><div class=\"sk-container\" hidden><div class=\"sk-item\"><div class=\"sk-estimator sk-toggleable\"><input class=\"sk-toggleable__control sk-hidden--visually\" id=\"sk-estimator-id-2\" type=\"checkbox\" checked><label for=\"sk-estimator-id-2\" class=\"sk-toggleable__label sk-toggleable__label-arrow\">GradientBoostingClassifier</label><div class=\"sk-toggleable__content\"><pre>GradientBoostingClassifier()</pre></div></div></div></div></div>"
      ],
      "text/plain": [
       "GradientBoostingClassifier()"
      ]
     },
     "execution_count": 80,
     "metadata": {},
     "output_type": "execute_result"
    }
   ],
   "source": [
    "x_train, x_test, y_train, y_test = train_test_split(X, Y1, test_size=0.3, random_state=40)\n",
    "\n",
    "gbc = GradientBoostingClassifier()\n",
    "gbc.fit(x_train, y_train)"
   ]
  },
  {
   "cell_type": "code",
   "execution_count": 81,
   "id": "79e03a8d",
   "metadata": {},
   "outputs": [
    {
     "data": {
      "text/plain": [
       "0.697945276918263"
      ]
     },
     "execution_count": 81,
     "metadata": {},
     "output_type": "execute_result"
    }
   ],
   "source": [
    "gbc.score(x_test, y_test)"
   ]
  },
  {
   "cell_type": "code",
   "execution_count": 82,
   "id": "90dbf4a2",
   "metadata": {},
   "outputs": [
    {
     "name": "stdout",
     "output_type": "stream",
     "text": [
      "              precision    recall  f1-score   support\n",
      "\n",
      "           0       0.50      0.52      0.51     14307\n",
      "           1       0.50      0.49      0.50     14456\n",
      "\n",
      "    accuracy                           0.50     28763\n",
      "   macro avg       0.50      0.50      0.50     28763\n",
      "weighted avg       0.50      0.50      0.50     28763\n",
      "\n"
     ]
    }
   ],
   "source": [
    "prediction3=gbc.predict(X_test)\n",
    "print(metrics.classification_report(y_test,prediction3))"
   ]
  },
  {
   "cell_type": "markdown",
   "id": "afc8d687",
   "metadata": {},
   "source": [
    "# Booked Predictions"
   ]
  },
  {
   "cell_type": "code",
   "execution_count": 83,
   "id": "f4397d72",
   "metadata": {},
   "outputs": [],
   "source": [
    "# Balancing the Data\n",
    "\n",
    "book_indices = id_219[id_219.booked == 1].index\n",
    "random_indices = np.random.choice(book_indices, len(id_219.loc[id_219.booked == 1]), replace=False)\n",
    "book_sample = id_219.loc[random_indices]\n",
    "\n",
    "not_book = id_219[id_219.booked == 0].index\n",
    "random_indices = np.random.choice(not_book, sum(id_219['booked']), replace=False)\n",
    "not_book_sample = id_219.loc[random_indices]\n",
    "\n",
    "id_219_new = pd.concat([not_book_sample, book_sample], axis=0)"
   ]
  },
  {
   "cell_type": "code",
   "execution_count": 84,
   "id": "11dfb687",
   "metadata": {},
   "outputs": [
    {
     "name": "stdout",
     "output_type": "stream",
     "text": [
      "Percentage of not book impressions:  0.5\n",
      "Percentage of book impression:  0.5\n",
      "Total number of records in resampled data:  62586\n"
     ]
    }
   ],
   "source": [
    "print(\"Percentage of not book impressions: \", len(id_219_new[id_219_new.booked == 0])/len(id_219_new))\n",
    "print(\"Percentage of book impression: \", len(id_219_new[id_219_new.booked == 1])/len(id_219_new))\n",
    "print(\"Total number of records in resampled data: \", len(id_219_new))"
   ]
  },
  {
   "cell_type": "code",
   "execution_count": 85,
   "id": "b570a258",
   "metadata": {},
   "outputs": [],
   "source": [
    "mms = MinMaxScaler()\n",
    "id_219[['price_usd','distance_to_dest']] = mms.fit_transform(id_219[['price_usd','distance_to_dest']])"
   ]
  },
  {
   "cell_type": "code",
   "execution_count": 86,
   "id": "f07397c9",
   "metadata": {},
   "outputs": [],
   "source": [
    "X_train,X_test,y_train,y_test = train_test_split(X,Y2,test_size=0.3,random_state=1)"
   ]
  },
  {
   "cell_type": "markdown",
   "id": "45a737ca",
   "metadata": {},
   "source": [
    "# Booked Prediction---Random Forest Classifier"
   ]
  },
  {
   "cell_type": "code",
   "execution_count": 87,
   "id": "240a436a",
   "metadata": {},
   "outputs": [],
   "source": [
    "rf=RandomForestClassifier()\n",
    "model = rf.fit(X_train, y_train)\n",
    "prediction4 = model.predict(X_test)"
   ]
  },
  {
   "cell_type": "code",
   "execution_count": 88,
   "id": "57faaa8c",
   "metadata": {},
   "outputs": [
    {
     "name": "stdout",
     "output_type": "stream",
     "text": [
      "Acc on training data: 1.000\n",
      "Acc on test data: 0.767\n"
     ]
    }
   ],
   "source": [
    "print(\"Acc on training data: {:,.3f}\".format(rf.score(X_train, y_train)))\n",
    "print(\"Acc on test data: {:,.3f}\".format(rf.score(X_test, y_test)))"
   ]
  },
  {
   "cell_type": "code",
   "execution_count": 89,
   "id": "d7c03a14",
   "metadata": {},
   "outputs": [
    {
     "data": {
      "text/plain": [
       "array([[16736,  2610],\n",
       "       [ 4084,  5333]], dtype=int64)"
      ]
     },
     "execution_count": 89,
     "metadata": {},
     "output_type": "execute_result"
    }
   ],
   "source": [
    "confusion_matrix(y_test,prediction4)"
   ]
  },
  {
   "cell_type": "code",
   "execution_count": 90,
   "id": "9a94ca58",
   "metadata": {},
   "outputs": [
    {
     "name": "stdout",
     "output_type": "stream",
     "text": [
      "              precision    recall  f1-score   support\n",
      "\n",
      "           0       0.80      0.87      0.83     19346\n",
      "           1       0.67      0.57      0.61      9417\n",
      "\n",
      "    accuracy                           0.77     28763\n",
      "   macro avg       0.74      0.72      0.72     28763\n",
      "weighted avg       0.76      0.77      0.76     28763\n",
      "\n"
     ]
    }
   ],
   "source": [
    "print(metrics.classification_report(y_test,prediction4))"
   ]
  },
  {
   "cell_type": "markdown",
   "id": "b6ab6ed1",
   "metadata": {},
   "source": [
    "# Over Sampling On Booked Prediction"
   ]
  },
  {
   "cell_type": "code",
   "execution_count": 112,
   "id": "fe0b5cd3",
   "metadata": {},
   "outputs": [],
   "source": [
    "ros=RandomOverSampler(random_state=42)\n",
    "X_resampled,Y2_resampled = ros.fit_resample(X,Y2)\n",
    "xr_train,xr_test,yr_train,yr_test = train_test_split(X_resampled, Y2_resampled, test_size=0.2, random_state=42)\n"
   ]
  },
  {
   "cell_type": "code",
   "execution_count": 113,
   "id": "f5c482a2",
   "metadata": {},
   "outputs": [
    {
     "name": "stdout",
     "output_type": "stream",
     "text": [
      "Acuuracy train 0.9999961288699204 | test 0.8738565596372834\n",
      "F1 train 0.9999961288324559 | test 0.8807168243926087\n"
     ]
    }
   ],
   "source": [
    "rf = RandomForestClassifier()\n",
    "\n",
    "result=cross_validate(rf,X_resampled,Y2_resampled,cv=5,scoring=['accuracy','f1'],return_train_score=True)\n",
    "print('Acuuracy','train',result['train_accuracy'].mean(),'| test',result['test_accuracy'].mean())\n",
    "print('F1','train',result['train_f1'].mean(),'| test',result['test_f1'].mean())\n"
   ]
  },
  {
   "cell_type": "markdown",
   "id": "58401367",
   "metadata": {},
   "source": [
    "# Features Importance"
   ]
  },
  {
   "cell_type": "code",
   "execution_count": 116,
   "id": "409a9108",
   "metadata": {},
   "outputs": [
    {
     "name": "stdout",
     "output_type": "stream",
     "text": [
      "                  feature importance\n",
      "listing_position            0.159389\n",
      "random_sort                 0.117786\n",
      "location_score2             0.086656\n",
      "search_id                   0.072624\n",
      "listing_id                  0.070410\n"
     ]
    }
   ],
   "source": [
    "rf = RandomForestClassifier(random_state=42)\n",
    "rf.fit(X_train, y_train)\n",
    "\n",
    "# Create a dataframe for the model's feature importance\n",
    "id_219_new = pd.DataFrame(\n",
    "    rf.feature_importances_, columns=['feature importance'], \n",
    "    index=X_train.columns).sort_values(\n",
    "    'feature importance', ascending=False)\n",
    "\n",
    "# Print the 5 highest features in terms of importance\n",
    "print(id_219_new.head())"
   ]
  },
  {
   "cell_type": "code",
   "execution_count": null,
   "id": "c8aa8abb",
   "metadata": {},
   "outputs": [],
   "source": []
  }
 ],
 "metadata": {
  "kernelspec": {
   "display_name": "Python 3 (ipykernel)",
   "language": "python",
   "name": "python3"
  },
  "language_info": {
   "codemirror_mode": {
    "name": "ipython",
    "version": 3
   },
   "file_extension": ".py",
   "mimetype": "text/x-python",
   "name": "python",
   "nbconvert_exporter": "python",
   "pygments_lexer": "ipython3",
   "version": "3.9.12"
  }
 },
 "nbformat": 4,
 "nbformat_minor": 5
}
